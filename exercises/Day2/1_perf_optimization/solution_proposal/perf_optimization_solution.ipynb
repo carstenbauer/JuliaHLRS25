{
 "cells": [
  {
   "cell_type": "markdown",
   "metadata": {},
   "source": [
    "# Exercise: Performance Optimization"
   ]
  },
  {
   "cell_type": "markdown",
   "metadata": {},
   "source": [
    "Optimize the following function."
   ]
  },
  {
   "cell_type": "code",
   "execution_count": 1,
   "metadata": {
    "tags": []
   },
   "outputs": [
    {
     "data": {
      "text/plain": [
       "work! (generic function with 1 method)"
      ]
     },
     "execution_count": 1,
     "metadata": {},
     "output_type": "execute_result"
    }
   ],
   "source": [
    "function work!(A, B, v)\n",
    "    @assert size(A) == size(B)\n",
    "    val = zero(eltype(v))\n",
    "    for i in 1:N\n",
    "        val = mod(v[i],256)\n",
    "        A[i,1:N] = B[i,1:N] * (sin(val) * sin(val) - cos(val) * cos(val))\n",
    "    end\n",
    "    return A\n",
    "end"
   ]
  },
  {
   "cell_type": "markdown",
   "metadata": {},
   "source": [
    "The following data is **fixed** and **not supposed to be modified**!"
   ]
  },
  {
   "cell_type": "code",
   "execution_count": 2,
   "metadata": {
    "tags": []
   },
   "outputs": [],
   "source": [
    "# do not modify this cell!\n",
    "\n",
    "using Random\n",
    "Random.seed!(42)\n",
    "\n",
    "N = 8000\n",
    "B = rand(N,N)\n",
    "v = rand(Int, N);\n",
    "\n",
    "const result = work!(zeros(N,N), B, v);\n",
    "\n",
    "# do not modify this cell!"
   ]
  },
  {
   "cell_type": "markdown",
   "metadata": {},
   "source": [
    "You can compare against `A_result` to test your implementation(s):"
   ]
  },
  {
   "cell_type": "code",
   "execution_count": 3,
   "metadata": {
    "tags": []
   },
   "outputs": [
    {
     "data": {
      "text/plain": [
       "\u001b[32m\u001b[1mTest Passed\u001b[22m\u001b[39m"
      ]
     },
     "execution_count": 3,
     "metadata": {},
     "output_type": "execute_result"
    }
   ],
   "source": [
    "using Test\n",
    "\n",
    "@test work!(zeros(N,N), B, v) ≈ result"
   ]
  },
  {
   "cell_type": "markdown",
   "metadata": {},
   "source": [
    "You can benchmark as follows:"
   ]
  },
  {
   "cell_type": "code",
   "execution_count": 4,
   "metadata": {
    "tags": []
   },
   "outputs": [
    {
     "name": "stdout",
     "output_type": "stream",
     "text": [
      "  550.996 ms (150979 allocations: 1002.91 MiB)\n"
     ]
    }
   ],
   "source": [
    "using BenchmarkTools\n",
    "\n",
    "@btime work!(A, $B, $v) setup=(A=zeros(N,N)); # or use @benchmark for more information"
   ]
  },
  {
   "cell_type": "markdown",
   "metadata": {},
   "source": [
    "## Your Optimizations"
   ]
  },
  {
   "cell_type": "markdown",
   "metadata": {},
   "source": [
    "Your optimized variants go here!\n",
    "\n",
    "**Hints** (hopefully):\n",
    "* What is suboptimal about the code? What is it that you'd want to change (but can't directly)?\n",
    "* Sometimes writing the code in a different way doesn't give direct speedups but enables further optimization.\n",
    "* A ~30x speedup should be possible on most systems 😉"
   ]
  },
  {
   "cell_type": "markdown",
   "metadata": {},
   "source": [
    "### Fixing the type instability (accessing global `N`)"
   ]
  },
  {
   "cell_type": "code",
   "execution_count": 5,
   "metadata": {
    "scrolled": true
   },
   "outputs": [
    {
     "name": "stdout",
     "output_type": "stream",
     "text": [
      "MethodInstance for work!(::Matrix{Float64}, ::Matrix{Float64}, ::Vector{Int64})\n",
      "  from work!(\u001b[90mA\u001b[39m, \u001b[90mB\u001b[39m, \u001b[90mv\u001b[39m)\u001b[90m @\u001b[39m \u001b[90mMain\u001b[39m \u001b[90m\u001b[4mIn[1]:1\u001b[24m\u001b[39m\n",
      "Arguments\n",
      "  #self#\u001b[36m::Core.Const(Main.work!)\u001b[39m\n",
      "  A\u001b[36m::Matrix{Float64}\u001b[39m\n",
      "  B\u001b[36m::Matrix{Float64}\u001b[39m\n",
      "  v\u001b[36m::Vector{Int64}\u001b[39m\n",
      "Locals\n",
      "  @_5\u001b[91m\u001b[1m::Any\u001b[22m\u001b[39m\n",
      "  val\u001b[91m\u001b[1m::Any\u001b[22m\u001b[39m\n",
      "  i\u001b[91m\u001b[1m::Any\u001b[22m\u001b[39m\n",
      "Body\u001b[36m::Matrix{Float64}\u001b[39m\n",
      "\u001b[90m1 ─\u001b[39m       Core.NewvarNode(:(@_5))\n",
      "\u001b[90m│  \u001b[39m       Core.NewvarNode(:(val))\n",
      "\u001b[90m│  \u001b[39m %3  = Main.:(==)\u001b[36m::Core.Const(==)\u001b[39m\n",
      "\u001b[90m│  \u001b[39m %4  = Main.size\u001b[36m::Core.Const(size)\u001b[39m\n",
      "\u001b[90m│  \u001b[39m %5  = (%4)(A)\u001b[36m::Tuple{Int64, Int64}\u001b[39m\n",
      "\u001b[90m│  \u001b[39m %6  = Main.size\u001b[36m::Core.Const(size)\u001b[39m\n",
      "\u001b[90m│  \u001b[39m %7  = (%6)(B)\u001b[36m::Tuple{Int64, Int64}\u001b[39m\n",
      "\u001b[90m│  \u001b[39m %8  = (%3)(%5, %7)\u001b[36m::Bool\u001b[39m\n",
      "\u001b[90m└──\u001b[39m       goto #3 if not %8\n",
      "\u001b[90m2 ─\u001b[39m       goto #4\n",
      "\u001b[90m3 ─\u001b[39m %11 = Base.throw\u001b[36m::Core.Const(throw)\u001b[39m\n",
      "\u001b[90m│  \u001b[39m %12 = Base.AssertionError(\"size(A) == size(B)\")\u001b[36m::Core.Const(AssertionError(\"size(A) == size(B)\"))\u001b[39m\n",
      "\u001b[90m└──\u001b[39m       (%11)(%12)\n",
      "\u001b[90m4 ┄\u001b[39m %14 = Main.zero\u001b[36m::Core.Const(zero)\u001b[39m\n",
      "\u001b[90m│  \u001b[39m %15 = Main.eltype\u001b[36m::Core.Const(eltype)\u001b[39m\n",
      "\u001b[90m│  \u001b[39m %16 = (%15)(v)\u001b[36m::Core.Const(Int64)\u001b[39m\n",
      "\u001b[90m│  \u001b[39m       (val = (%14)(%16))\n",
      "\u001b[90m│  \u001b[39m %18 = Main.:(:)\u001b[36m::Core.Const(Colon())\u001b[39m\n",
      "\u001b[90m│  \u001b[39m %19 = Main.N\u001b[91m\u001b[1m::Any\u001b[22m\u001b[39m\n",
      "\u001b[90m│  \u001b[39m %20 = (%18)(1, %19)\u001b[91m\u001b[1m::Any\u001b[22m\u001b[39m\n",
      "\u001b[90m│  \u001b[39m       (@_5 = Base.iterate(%20))\n",
      "\u001b[90m│  \u001b[39m %22 = @_5\u001b[91m\u001b[1m::Any\u001b[22m\u001b[39m\n",
      "\u001b[90m│  \u001b[39m %23 = (%22 === nothing)\u001b[36m::Bool\u001b[39m\n",
      "\u001b[90m│  \u001b[39m %24 = Base.not_int(%23)\u001b[36m::Bool\u001b[39m\n",
      "\u001b[90m└──\u001b[39m       goto #7 if not %24\n",
      "\u001b[90m5 ┄\u001b[39m %26 = @_5\u001b[91m\u001b[1m::Any\u001b[22m\u001b[39m\n",
      "\u001b[90m│  \u001b[39m       (i = Core.getfield(%26, 1))\n",
      "\u001b[90m│  \u001b[39m %28 = Core.getfield(%26, 2)\u001b[91m\u001b[1m::Any\u001b[22m\u001b[39m\n",
      "\u001b[90m│  \u001b[39m %29 = Main.mod\u001b[36m::Core.Const(mod)\u001b[39m\n",
      "\u001b[90m│  \u001b[39m %30 = i\u001b[91m\u001b[1m::Any\u001b[22m\u001b[39m\n",
      "\u001b[90m│  \u001b[39m %31 = Base.getindex(v, %30)\u001b[91m\u001b[1m::Any\u001b[22m\u001b[39m\n",
      "\u001b[90m│  \u001b[39m       (val = (%29)(%31, 256))\n",
      "\u001b[90m│  \u001b[39m %33 = Main.:*\u001b[36m::Core.Const(*)\u001b[39m\n",
      "\u001b[90m│  \u001b[39m %34 = i\u001b[91m\u001b[1m::Any\u001b[22m\u001b[39m\n",
      "\u001b[90m│  \u001b[39m %35 = Main.:(:)\u001b[36m::Core.Const(Colon())\u001b[39m\n",
      "\u001b[90m│  \u001b[39m %36 = Main.N\u001b[91m\u001b[1m::Any\u001b[22m\u001b[39m\n",
      "\u001b[90m│  \u001b[39m %37 = (%35)(1, %36)\u001b[91m\u001b[1m::Any\u001b[22m\u001b[39m\n",
      "\u001b[90m│  \u001b[39m %38 = Base.getindex(B, %34, %37)\u001b[91m\u001b[1m::Any\u001b[22m\u001b[39m\n",
      "\u001b[90m│  \u001b[39m %39 = Main.:-\u001b[36m::Core.Const(-)\u001b[39m\n",
      "\u001b[90m│  \u001b[39m %40 = Main.:*\u001b[36m::Core.Const(*)\u001b[39m\n",
      "\u001b[90m│  \u001b[39m %41 = Main.sin\u001b[36m::Core.Const(sin)\u001b[39m\n",
      "\u001b[90m│  \u001b[39m %42 = val\u001b[91m\u001b[1m::Any\u001b[22m\u001b[39m\n",
      "\u001b[90m│  \u001b[39m %43 = (%41)(%42)\u001b[91m\u001b[1m::Any\u001b[22m\u001b[39m\n",
      "\u001b[90m│  \u001b[39m %44 = Main.sin\u001b[36m::Core.Const(sin)\u001b[39m\n",
      "\u001b[90m│  \u001b[39m %45 = val\u001b[91m\u001b[1m::Any\u001b[22m\u001b[39m\n",
      "\u001b[90m│  \u001b[39m %46 = (%44)(%45)\u001b[91m\u001b[1m::Any\u001b[22m\u001b[39m\n",
      "\u001b[90m│  \u001b[39m %47 = (%40)(%43, %46)\u001b[91m\u001b[1m::Any\u001b[22m\u001b[39m\n",
      "\u001b[90m│  \u001b[39m %48 = Main.:*\u001b[36m::Core.Const(*)\u001b[39m\n",
      "\u001b[90m│  \u001b[39m %49 = Main.cos\u001b[36m::Core.Const(cos)\u001b[39m\n",
      "\u001b[90m│  \u001b[39m %50 = val\u001b[91m\u001b[1m::Any\u001b[22m\u001b[39m\n",
      "\u001b[90m│  \u001b[39m %51 = (%49)(%50)\u001b[91m\u001b[1m::Any\u001b[22m\u001b[39m\n",
      "\u001b[90m│  \u001b[39m %52 = Main.cos\u001b[36m::Core.Const(cos)\u001b[39m\n",
      "\u001b[90m│  \u001b[39m %53 = val\u001b[91m\u001b[1m::Any\u001b[22m\u001b[39m\n",
      "\u001b[90m│  \u001b[39m %54 = (%52)(%53)\u001b[91m\u001b[1m::Any\u001b[22m\u001b[39m\n",
      "\u001b[90m│  \u001b[39m %55 = (%48)(%51, %54)\u001b[91m\u001b[1m::Any\u001b[22m\u001b[39m\n",
      "\u001b[90m│  \u001b[39m %56 = (%39)(%47, %55)\u001b[91m\u001b[1m::Any\u001b[22m\u001b[39m\n",
      "\u001b[90m│  \u001b[39m %57 = (%33)(%38, %56)\u001b[91m\u001b[1m::Any\u001b[22m\u001b[39m\n",
      "\u001b[90m│  \u001b[39m %58 = i\u001b[91m\u001b[1m::Any\u001b[22m\u001b[39m\n",
      "\u001b[90m│  \u001b[39m %59 = Main.:(:)\u001b[36m::Core.Const(Colon())\u001b[39m\n",
      "\u001b[90m│  \u001b[39m %60 = Main.N\u001b[91m\u001b[1m::Any\u001b[22m\u001b[39m\n",
      "\u001b[90m│  \u001b[39m %61 = (%59)(1, %60)\u001b[91m\u001b[1m::Any\u001b[22m\u001b[39m\n",
      "\u001b[90m│  \u001b[39m       Base.setindex!(A, %57, %58, %61)\n",
      "\u001b[90m│  \u001b[39m       (@_5 = Base.iterate(%20, %28))\n",
      "\u001b[90m│  \u001b[39m %64 = @_5\u001b[91m\u001b[1m::Any\u001b[22m\u001b[39m\n",
      "\u001b[90m│  \u001b[39m %65 = (%64 === nothing)\u001b[36m::Bool\u001b[39m\n",
      "\u001b[90m│  \u001b[39m %66 = Base.not_int(%65)\u001b[36m::Bool\u001b[39m\n",
      "\u001b[90m└──\u001b[39m       goto #7 if not %66\n",
      "\u001b[90m6 ─\u001b[39m       goto #5\n",
      "\u001b[90m7 ┄\u001b[39m %69 = A\u001b[36m::Matrix{Float64}\u001b[39m\n",
      "\u001b[90m└──\u001b[39m       return %69\n",
      "\n"
     ]
    }
   ],
   "source": [
    "@code_warntype work!(zeros(N,N), B, v)"
   ]
  },
  {
   "cell_type": "markdown",
   "metadata": {},
   "source": [
    "Get `N` from the size of `A` (or `B`) or add another function argument."
   ]
  },
  {
   "cell_type": "code",
   "execution_count": 7,
   "metadata": {},
   "outputs": [
    {
     "name": "stdout",
     "output_type": "stream",
     "text": [
      "  517.560 ms (48000 allocations: 1000.98 MiB)\n"
     ]
    },
    {
     "data": {
      "text/plain": [
       "\u001b[32m\u001b[1mTest Passed\u001b[22m\u001b[39m"
      ]
     },
     "execution_count": 7,
     "metadata": {},
     "output_type": "execute_result"
    }
   ],
   "source": [
    "function work1!(A, B, v)\n",
    "    @assert size(A) == size(B)\n",
    "    N = size(A,1) # or additional function argument\n",
    "    val = zero(eltype(v))\n",
    "    for i in 1:N\n",
    "        val = -cos(2*mod(v[i],256))\n",
    "        A[i,1:N] = B[i,1:N] * val\n",
    "    end\n",
    "    return A\n",
    "end\n",
    "\n",
    "@btime work1!(A, $B, $v) setup=(A=zeros(N,N))\n",
    "@test work1!(zeros(N,N), B, v) ≈ result"
   ]
  },
  {
   "cell_type": "markdown",
   "metadata": {},
   "source": [
    "### Analytic optimization (style points 😉)"
   ]
  },
  {
   "cell_type": "markdown",
   "metadata": {},
   "source": [
    "Trigonometric identity"
   ]
  },
  {
   "cell_type": "code",
   "execution_count": 8,
   "metadata": {
    "tags": []
   },
   "outputs": [
    {
     "data": {
      "text/plain": [
       "\u001b[32m\u001b[1mTest Passed\u001b[22m\u001b[39m"
      ]
     },
     "execution_count": 8,
     "metadata": {},
     "output_type": "execute_result"
    }
   ],
   "source": [
    "x = rand()\n",
    "@test sin(x) * sin(x) - cos(x) * cos(x) ≈ -cos(2*x)"
   ]
  },
  {
   "cell_type": "code",
   "execution_count": 9,
   "metadata": {
    "tags": []
   },
   "outputs": [
    {
     "name": "stdout",
     "output_type": "stream",
     "text": [
      "  511.549 ms (48000 allocations: 1000.98 MiB)\n"
     ]
    },
    {
     "data": {
      "text/plain": [
       "\u001b[32m\u001b[1mTest Passed\u001b[22m\u001b[39m"
      ]
     },
     "execution_count": 9,
     "metadata": {},
     "output_type": "execute_result"
    }
   ],
   "source": [
    "function work2!(A, B, v)\n",
    "    @assert size(A) == size(B)\n",
    "    N = size(A,1)\n",
    "    val = zero(eltype(v))\n",
    "    for i in 1:N\n",
    "        val = -cos(2*mod(v[i],256))\n",
    "        A[i,1:N] = B[i,1:N] * val\n",
    "    end\n",
    "    return A\n",
    "end\n",
    "\n",
    "@btime work2!(A, $B, $v) setup=(A=zeros(N,N))\n",
    "@test work2!(zeros(N,N), B, v) ≈ result"
   ]
  },
  {
   "cell_type": "markdown",
   "metadata": {},
   "source": [
    "### Avoid allocations due to slicing (`B[i, 1:N]`)"
   ]
  },
  {
   "cell_type": "code",
   "execution_count": 13,
   "metadata": {},
   "outputs": [
    {
     "name": "stdout",
     "output_type": "stream",
     "text": [
      "  414.931 ms (24000 allocations: 500.49 MiB)\n"
     ]
    },
    {
     "data": {
      "text/plain": [
       "\u001b[32m\u001b[1mTest Passed\u001b[22m\u001b[39m"
      ]
     },
     "execution_count": 13,
     "metadata": {},
     "output_type": "execute_result"
    }
   ],
   "source": [
    "function work3_vectorized!(A, B, v)\n",
    "    @assert size(A) == size(B)\n",
    "    N = size(A,1)\n",
    "    val = zero(eltype(v))\n",
    "    for i in 1:N\n",
    "        val = -cos(2*mod(v[i],256))\n",
    "        @views A[i,1:N] = B[i,1:N] * val\n",
    "    end\n",
    "    return A\n",
    "end\n",
    "\n",
    "@btime work3_vectorized!(A, $B, $v) setup=(A=zeros(N,N))\n",
    "@test work3_vectorized!(zeros(N,N), B, v) ≈ result"
   ]
  },
  {
   "cell_type": "markdown",
   "metadata": {},
   "source": [
    "Same idea but explicit loop + `@inbounds`"
   ]
  },
  {
   "cell_type": "code",
   "execution_count": 12,
   "metadata": {},
   "outputs": [
    {
     "name": "stdout",
     "output_type": "stream",
     "text": [
      "  475.580 ms (0 allocations: 0 bytes)\n"
     ]
    },
    {
     "data": {
      "text/plain": [
       "\u001b[32m\u001b[1mTest Passed\u001b[22m\u001b[39m"
      ]
     },
     "execution_count": 12,
     "metadata": {},
     "output_type": "execute_result"
    }
   ],
   "source": [
    "function work3_loop!(A, B, v)\n",
    "    @assert size(A) == size(B)\n",
    "    N = size(A,1)\n",
    "    val = zero(eltype(v))\n",
    "    for i in 1:N\n",
    "        val = -cos(2*mod(v[i],256))     \n",
    "        for j in 1:N\n",
    "            @inbounds A[i,j] = B[i,j] * val\n",
    "        end\n",
    "    end\n",
    "    return A\n",
    "end\n",
    "\n",
    "@btime work3_loop!(A, $B, $v) setup=(A=zeros(N,N))\n",
    "@test work3_loop!(zeros(N,N), B, v) ≈ result"
   ]
  },
  {
   "cell_type": "markdown",
   "metadata": {},
   "source": [
    "### Separating `val` computation"
   ]
  },
  {
   "cell_type": "code",
   "execution_count": 14,
   "metadata": {},
   "outputs": [
    {
     "name": "stdout",
     "output_type": "stream",
     "text": [
      "  492.305 ms (3 allocations: 64.06 KiB)\n"
     ]
    },
    {
     "data": {
      "text/plain": [
       "\u001b[32m\u001b[1mTest Passed\u001b[22m\u001b[39m"
      ]
     },
     "execution_count": 14,
     "metadata": {},
     "output_type": "execute_result"
    }
   ],
   "source": [
    "function work4_vectorized!(A, B, v)\n",
    "    @assert size(A) == size(B)\n",
    "    N = size(A,1)\n",
    "    val = [-cos(2*mod(x,256)) for x in v]\n",
    "    \n",
    "    for i in 1:N\n",
    "        @views A[i,1:N] .= B[i,1:N] .* val[i]\n",
    "    end\n",
    "    return A\n",
    "end\n",
    "\n",
    "@btime work4_vectorized!(A, $B, $v) setup=(A=zeros(N,N))\n",
    "@test work4_vectorized!(zeros(N,N), B, v) ≈ result"
   ]
  },
  {
   "cell_type": "markdown",
   "metadata": {},
   "source": [
    "Same idea but explicit loop + `@inbounds`"
   ]
  },
  {
   "cell_type": "code",
   "execution_count": 15,
   "metadata": {
    "tags": []
   },
   "outputs": [
    {
     "name": "stdout",
     "output_type": "stream",
     "text": [
      "  1.094 s (3 allocations: 64.06 KiB)\n"
     ]
    },
    {
     "data": {
      "text/plain": [
       "\u001b[32m\u001b[1mTest Passed\u001b[22m\u001b[39m"
      ]
     },
     "execution_count": 15,
     "metadata": {},
     "output_type": "execute_result"
    }
   ],
   "source": [
    "function work4_loop!(A, B, v)\n",
    "    @assert size(A) == size(B)\n",
    "    N = size(A,1)\n",
    "    val = [-cos(2*mod(x,256)) for x in v]\n",
    "    \n",
    "    for i in 1:N\n",
    "        for j in 1:N\n",
    "            @inbounds A[i,j] = B[i,j] * val[i]\n",
    "        end\n",
    "    end\n",
    "    return A\n",
    "end\n",
    "\n",
    "@btime work4_loop!(A, $B, $v) setup=(A=zeros(N,N))\n",
    "@test work4_loop!(zeros(N,N), B, v) ≈ result"
   ]
  },
  {
   "cell_type": "markdown",
   "metadata": {},
   "source": [
    "### Switch loop order (!!!)"
   ]
  },
  {
   "cell_type": "code",
   "execution_count": 16,
   "metadata": {
    "tags": []
   },
   "outputs": [
    {
     "name": "stdout",
     "output_type": "stream",
     "text": [
      "  23.563 ms (3 allocations: 64.06 KiB)\n"
     ]
    },
    {
     "data": {
      "text/plain": [
       "\u001b[32m\u001b[1mTest Passed\u001b[22m\u001b[39m"
      ]
     },
     "execution_count": 16,
     "metadata": {},
     "output_type": "execute_result"
    }
   ],
   "source": [
    "function work5!(A, B, v)\n",
    "    @assert size(A) == size(B)\n",
    "    N = size(A,1)\n",
    "    val = [-cos(2*mod(x,256)) for x in v]\n",
    "    \n",
    "    for j in 1:N\n",
    "        for i in 1:N\n",
    "            @inbounds A[i,j] = B[i,j] * val[i]\n",
    "        end\n",
    "    end\n",
    "    return A\n",
    "end\n",
    "\n",
    "@btime work5!(A, $B, $v) setup=(A=zeros(N,N))\n",
    "@test work5!(zeros(N,N), B, v) ≈ result"
   ]
  },
  {
   "cell_type": "markdown",
   "metadata": {},
   "source": [
    "## Bonus Question: Performance limit?\n",
    "\n",
    "Look at your final optimized version of `work!`.\n",
    "\n",
    "* In the limit of larger `A` and `B`, what is conceptually limiting the performance, the compute capability or memory transfer (i.e. reading and writing `A` and `B`)?"
   ]
  },
  {
   "cell_type": "markdown",
   "metadata": {},
   "source": [
    "Let's try to quickly estimate the maximal memory bandwidth that a single-CPU core can achieve on the given computer:"
   ]
  },
  {
   "cell_type": "code",
   "execution_count": 17,
   "metadata": {},
   "outputs": [
    {
     "data": {
      "text/plain": [
       "90.27210000000001"
      ]
     },
     "execution_count": 17,
     "metadata": {},
     "output_type": "execute_result"
    }
   ],
   "source": [
    "using STREAMBenchmark\n",
    "membw = memory_bandwidth(; nthreads=1).median / 1000 # memory bandwidth in GB /s"
   ]
  },
  {
   "cell_type": "markdown",
   "metadata": {},
   "source": [
    "For references, a single CPU-core in [Noctua 2](https://pc2.uni-paderborn.de/systems-and-services/noctua-2) can achieve a **maximal memory bandwidth of ~45 GB/s**."
   ]
  },
  {
   "cell_type": "markdown",
   "metadata": {},
   "source": [
    "* Given the maximal memory bandwidth, can you give a performance bound estimate, i.e. the minimal runtime that we could possibly hope to achieve?\n",
    "  * Hint: how many flops are performed per iteration and how many bytes are transferred?\n",
    "* How far off is your implementation from achieving the limit (in percent)?"
   ]
  },
  {
   "cell_type": "code",
   "execution_count": 18,
   "metadata": {},
   "outputs": [
    {
     "name": "stdout",
     "output_type": "stream",
     "text": [
      "Performance bound: 3.76 GFLOP/s\n",
      "Runtime estimate: 17.02 ms\n"
     ]
    }
   ],
   "source": [
    "# membw = 45 # GB/s\n",
    "flops = 1 # flops per iteration\n",
    "traffic = 3*8 # bytes per iteration\n",
    "I = flops / traffic # flops / byte\n",
    "\n",
    "perf_bound = I*membw # GFLOPS\n",
    "runtime_estimate = N^2 * 1e3 / (perf_bound * 1e9) # in ms\n",
    "\n",
    "println(\"Performance bound: \", round(perf_bound, digits=2), \" GFLOP/s\")\n",
    "println(\"Runtime estimate: \", round(runtime_estimate, digits=2), \" ms\")"
   ]
  },
  {
   "cell_type": "code",
   "execution_count": 19,
   "metadata": {},
   "outputs": [
    {
     "name": "stdout",
     "output_type": "stream",
     "text": [
      "My best version achieves 91.6% of the limit.\n"
     ]
    }
   ],
   "source": [
    "t_work5 = @belapsed work5!(A, $B, $v) setup=(A=zeros(N,N))\n",
    "ratio = runtime_estimate / (t_work5 * 1e3)\n",
    "println(\"My best version achieves \", round(ratio * 100, digits=2), \"% of the limit.\")"
   ]
  }
 ],
 "metadata": {
  "@webio": {
   "lastCommId": null,
   "lastKernelId": null
  },
  "kernelspec": {
   "display_name": "Julia 1.11.6",
   "language": "julia",
   "name": "julia-1.11"
  },
  "language_info": {
   "file_extension": ".jl",
   "mimetype": "application/julia",
   "name": "julia",
   "version": "1.11.6"
  }
 },
 "nbformat": 4,
 "nbformat_minor": 4
}
